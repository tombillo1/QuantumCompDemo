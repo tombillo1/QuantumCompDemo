{
 "cells": [
  {
   "cell_type": "markdown",
   "id": "2be8214e",
   "metadata": {},
   "source": [
    "### Quantum Circuit & Entanglement Demo\n",
    "\n",
    "#### Simple Quantum Circuit to show the power of Qiskit."
   ]
  },
  {
   "cell_type": "code",
   "execution_count": 7,
   "id": "fef33e2a",
   "metadata": {},
   "outputs": [
    {
     "data": {
      "image/png": "[encoded data removed]",
      "text/plain": [
       "<Figure size 159.778x204.68 with 1 Axes>"
      ]
     },
     "execution_count": 7,
     "metadata": {},
     "output_type": "execute_result"
    }
   ],
   "source": [
    "from qiskit import *\n",
    "from qiskit.tools.visualization import plot_histogram\n",
    "#Quantum Circuit\n",
    "\n",
    "#2 qubit quantum register\n",
    "quantum_reg = QuantumRegister(2)\n",
    "#2 classical bit register\n",
    "classical_reg = ClassicalRegister(2)\n",
    "\n",
    "circuit = QuantumCircuit(quantum_reg, classical_reg)\n",
    "\n",
    "%matplotlib inline\n",
    "#In order to achieve entanglement between quantum bits we must apply a hadamard\n",
    "circuit.h(quantum_reg[0])\n",
    "circuit.draw(output='mpl')"
   ]
  },
  {
   "cell_type": "code",
   "execution_count": 8,
   "id": "b58eb285",
   "metadata": {},
   "outputs": [
    {
     "data": {
      "image/png": "[encoded data removed]",
      "text/plain": [
       "<Figure size 219.978x204.68 with 1 Axes>"
      ]
     },
     "execution_count": 8,
     "metadata": {},
     "output_type": "execute_result"
    }
   ],
   "source": [
    "#adds a CNOT that acts as a logical if between the two qubits\n",
    "circuit.cx(quantum_reg[0], quantum_reg[1])\n",
    "circuit.draw(output='mpl')"
   ]
  },
  {
   "cell_type": "code",
   "execution_count": 9,
   "id": "f9e7e17c",
   "metadata": {},
   "outputs": [
    {
     "data": {
      "image/png": "[encoded data removed]",
      "text/plain": [
       "<Figure size 340.378x204.68 with 1 Axes>"
      ]
     },
     "execution_count": 9,
     "metadata": {},
     "output_type": "execute_result"
    }
   ],
   "source": [
    "#now we want to measure and store to the classical bits\n",
    "circuit.measure(quantum_reg, classical_reg)\n",
    "circuit.draw(output='mpl')"
   ]
  },
  {
   "cell_type": "code",
   "execution_count": 14,
   "id": "240444f4",
   "metadata": {},
   "outputs": [
    {
     "data": {
      "image/png": "[encoded data removed]",
      "text/plain": [
       "<Figure size 504x360 with 1 Axes>"
      ]
     },
     "execution_count": 14,
     "metadata": {},
     "output_type": "execute_result"
    }
   ],
   "source": [
    "#simulating on the classical computer\n",
    "b_end = Aer.get_backend('qasm_simulator')\n",
    "result = execute(circuit, b_end).result()\n",
    "\n",
    "plot_histogram(result.get_counts(circuit))"
   ]
  },
  {
   "cell_type": "markdown",
   "id": "e7204912",
   "metadata": {},
   "source": [
    "### Shor's Algorithm Demo\n",
    "\n",
    "#### Utilizes Quantum Simulators and Circuits\n"
   ]
  },
  {
   "cell_type": "code",
   "execution_count": 2,
   "id": "337d052f-6fe0-4e4e-a030-ba0d52d28741",
   "metadata": {
    "tags": []
   },
   "outputs": [],
   "source": [
    "import numpy as np\n",
    "\n",
    "from qiskit import QuantumCircuit, transpile, Aer, IBMQ\n",
    "from qiskit.tools.jupyter import *\n",
    "from qiskit.visualization import *\n",
    "from qiskit import Aer\n",
    "from qiskit.algorithms import Shor\n",
    "from qiskit.utils import QuantumInstance\n",
    "import numpy as np"
   ]
  },
  {
   "cell_type": "code",
   "execution_count": 5,
   "id": "11b35140-2c2d-4b75-a844-e9f9195dc2d1",
   "metadata": {},
   "outputs": [
    {
     "name": "stderr",
     "output_type": "stream",
     "text": [
      "C:\\Users\\TJBil\\AppData\\Local\\Temp/ipykernel_30448/3671228927.py:7: DeprecationWarning: The Shor class is deprecated as of Qiskit Terra 0.22.0 and will be removed\n",
      "        no sooner than 3 months after the release date.\n",
      "        It is replaced by the tutorial at https://qiskit.org/textbook/ch-algorithms/shor.html\n",
      "        \n",
      "  shors = Shor(quantum_instance = q_inst)\n"
     ]
    },
    {
     "name": "stdout",
     "output_type": "stream",
     "text": [
      "The value 21 attained factor results [3, 7]\n"
     ]
    }
   ],
   "source": [
    "#backend for the quantum algorithm set as qasm\n",
    "b_end = Aer.get_backend('qasm_simulator')\n",
    "#runs the experiment for 1000 iterations\n",
    "shots = 1000\n",
    "q_inst = QuantumInstance(b_end, shots=shots)\n",
    "#shors algorithm: showing with example value 21 to factorize\n",
    "shors = Shor(quantum_instance = q_inst)\n",
    "factor = 21\n",
    "result = shors.factor(factor)\n",
    "print(f\"The value {factor} attained factor results {result.factors[0]}\")"
   ]
  }
 ],
 "metadata": {
  "kernelspec": {
   "display_name": "Python 3.9.7 ('base')",
   "language": "python",
   "name": "python3"
  },
  "language_info": {
   "codemirror_mode": {
    "name": "ipython",
    "version": 3
   },
   "file_extension": ".py",
   "mimetype": "text/x-python",
   "name": "python",
   "nbconvert_exporter": "python",
   "pygments_lexer": "ipython3",
   "version": "3.9.7"
  },
  "vscode": {
   "interpreter": {
    "hash": "48a52b6bbd10df622cf86d3888d4dccf1a3cc1146bfed7a8603b3a1390b14eb3"
   }
  },
  "widgets": {
   "application/vnd.jupyter.widget-state+json": {
    "state": {
     "03c075e3675341afbf527ddd580301f2": {
      "model_module": "@jupyter-widgets/base",
      "model_module_version": "1.2.0",
      "model_name": "LayoutModel",
      "state": {}
     },
     "0f003298e27d41e6834c94bd79f8d965": {
      "model_module": "@jupyter-widgets/base",
      "model_module_version": "1.2.0",
      "model_name": "LayoutModel",
      "state": {
       "width": "190px"
      }
     },
     "22885478f9814d8286741236e1975494": {
      "model_module": "@jupyter-widgets/base",
      "model_module_version": "1.2.0",
      "model_name": "LayoutModel",
      "state": {
       "width": "70px"
      }
     },
     "26be2f60828347e38719a8d2a6cf1c77": {
      "model_module": "@jupyter-widgets/controls",
      "model_module_version": "1.5.0",
      "model_name": "HTMLModel",
      "state": {
       "layout": "IPY_MODEL_0f003298e27d41e6834c94bd79f8d965",
       "style": "IPY_MODEL_ce4e4840e8f9470e85e05bc5c281bb73",
       "value": "<h5>Job ID</h5>"
      }
     },
     "30edb49d87b94f958bc2fc33d9398fe3": {
      "model_module": "@jupyter-widgets/controls",
      "model_module_version": "1.5.0",
      "model_name": "ButtonModel",
      "state": {
       "button_style": "primary",
       "description": "Clear",
       "layout": "IPY_MODEL_ac5be74c069f4769be82141d9dbb61dc",
       "style": "IPY_MODEL_ee2477b7f01a40ed8fef9126c034384c"
      }
     },
     "3973b59ed428495cb0500fa6ce6cda6f": {
      "model_module": "@jupyter-widgets/base",
      "model_module_version": "1.2.0",
      "model_name": "LayoutModel",
      "state": {
       "width": "95px"
      }
     },
     "4a0e63cdb7074d40ab5844e8cb7274d7": {
      "model_module": "@jupyter-widgets/controls",
      "model_module_version": "1.5.0",
      "model_name": "HTMLModel",
      "state": {
       "layout": "IPY_MODEL_cc90a0e91bc24ee7b2638dfe333137ec",
       "style": "IPY_MODEL_d605f9687a34461eae166145af56019a",
       "value": "<h5>Backend</h5>"
      }
     },
     "517cee9d73314bdab255b52a29559ff9": {
      "model_module": "@jupyter-widgets/controls",
      "model_module_version": "1.5.0",
      "model_name": "HBoxModel",
      "state": {
       "children": [
        "IPY_MODEL_26be2f60828347e38719a8d2a6cf1c77",
        "IPY_MODEL_4a0e63cdb7074d40ab5844e8cb7274d7",
        "IPY_MODEL_87a9e918bb234eccba4cd47d9f249679",
        "IPY_MODEL_a9a9c032eeff405aa901adf640513149",
        "IPY_MODEL_fc5b91e64a9149179eb700cfe98f42de"
       ],
       "layout": "IPY_MODEL_a211ee3a78af4786891fb740853708ac"
      }
     },
     "628e5cb3bf444c138452cc44ba508cc4": {
      "model_module": "@jupyter-widgets/base",
      "model_module_version": "1.2.0",
      "model_name": "LayoutModel",
      "state": {
       "margin": "0px 0px 10px 0px"
      }
     },
     "6898201d332845ec98f5beff51a77914": {
      "model_module": "@jupyter-widgets/controls",
      "model_module_version": "1.5.0",
      "model_name": "DescriptionStyleModel",
      "state": {
       "description_width": ""
      }
     },
     "87a9e918bb234eccba4cd47d9f249679": {
      "model_module": "@jupyter-widgets/controls",
      "model_module_version": "1.5.0",
      "model_name": "HTMLModel",
      "state": {
       "layout": "IPY_MODEL_3973b59ed428495cb0500fa6ce6cda6f",
       "style": "IPY_MODEL_a8a010c6760c470b8f2d34d7e1708bdb",
       "value": "<h5>Status</h5>"
      }
     },
     "a211ee3a78af4786891fb740853708ac": {
      "model_module": "@jupyter-widgets/base",
      "model_module_version": "1.2.0",
      "model_name": "LayoutModel",
      "state": {
       "margin": "0px 0px 0px 37px",
       "width": "600px"
      }
     },
     "a8a010c6760c470b8f2d34d7e1708bdb": {
      "model_module": "@jupyter-widgets/controls",
      "model_module_version": "1.5.0",
      "model_name": "DescriptionStyleModel",
      "state": {
       "description_width": ""
      }
     },
     "a9a9c032eeff405aa901adf640513149": {
      "model_module": "@jupyter-widgets/controls",
      "model_module_version": "1.5.0",
      "model_name": "HTMLModel",
      "state": {
       "layout": "IPY_MODEL_22885478f9814d8286741236e1975494",
       "style": "IPY_MODEL_6898201d332845ec98f5beff51a77914",
       "value": "<h5>Queue</h5>"
      }
     },
     "ac5be74c069f4769be82141d9dbb61dc": {
      "model_module": "@jupyter-widgets/base",
      "model_module_version": "1.2.0",
      "model_name": "LayoutModel",
      "state": {
       "grid_area": "right",
       "padding": "0px 0px 0px 0px",
       "width": "70px"
      }
     },
     "b1b826e256b34e40940c2b5079dc6f1f": {
      "model_module": "@jupyter-widgets/controls",
      "model_module_version": "1.5.0",
      "model_name": "DescriptionStyleModel",
      "state": {
       "description_width": ""
      }
     },
     "bb744d4c426646d2b3eed35b1174a5b5": {
      "model_module": "@jupyter-widgets/controls",
      "model_module_version": "1.5.0",
      "model_name": "DescriptionStyleModel",
      "state": {
       "description_width": ""
      }
     },
     "cc90a0e91bc24ee7b2638dfe333137ec": {
      "model_module": "@jupyter-widgets/base",
      "model_module_version": "1.2.0",
      "model_name": "LayoutModel",
      "state": {
       "width": "145px"
      }
     },
     "ce4e4840e8f9470e85e05bc5c281bb73": {
      "model_module": "@jupyter-widgets/controls",
      "model_module_version": "1.5.0",
      "model_name": "DescriptionStyleModel",
      "state": {
       "description_width": ""
      }
     },
     "d605f9687a34461eae166145af56019a": {
      "model_module": "@jupyter-widgets/controls",
      "model_module_version": "1.5.0",
      "model_name": "DescriptionStyleModel",
      "state": {
       "description_width": ""
      }
     },
     "dbb4589ba37945e1baf4f06af2e0f944": {
      "model_module": "@jupyter-widgets/base",
      "model_module_version": "1.2.0",
      "model_name": "LayoutModel",
      "state": {
       "grid_template_areas": "\n                                       \". . . . right \"\n                                        ",
       "grid_template_columns": "20% 20% 20% 20% 20%",
       "width": "100%"
      }
     },
     "e0872f2eb7634f0888b2b6c38dc0218d": {
      "model_module": "@jupyter-widgets/controls",
      "model_module_version": "1.5.0",
      "model_name": "HTMLModel",
      "state": {
       "layout": "IPY_MODEL_628e5cb3bf444c138452cc44ba508cc4",
       "style": "IPY_MODEL_b1b826e256b34e40940c2b5079dc6f1f",
       "value": "<p style='font-family: IBM Plex Sans, Arial, Helvetica, sans-serif; font-size: 20px; font-weight: medium;'>Circuit Properties</p>"
      }
     },
     "ee2477b7f01a40ed8fef9126c034384c": {
      "model_module": "@jupyter-widgets/controls",
      "model_module_version": "1.5.0",
      "model_name": "ButtonStyleModel",
      "state": {}
     },
     "ef832747d82349e88fea12c8e29a7635": {
      "model_module": "@jupyter-widgets/controls",
      "model_module_version": "1.5.0",
      "model_name": "GridBoxModel",
      "state": {
       "children": [
        "IPY_MODEL_30edb49d87b94f958bc2fc33d9398fe3"
       ],
       "layout": "IPY_MODEL_dbb4589ba37945e1baf4f06af2e0f944"
      }
     },
     "fc5b91e64a9149179eb700cfe98f42de": {
      "model_module": "@jupyter-widgets/controls",
      "model_module_version": "1.5.0",
      "model_name": "HTMLModel",
      "state": {
       "layout": "IPY_MODEL_03c075e3675341afbf527ddd580301f2",
       "style": "IPY_MODEL_bb744d4c426646d2b3eed35b1174a5b5",
       "value": "<h5>Message</h5>"
      }
     }
    },
    "version_major": 2,
    "version_minor": 0
   }
  }
 },
 "nbformat": 4,
 "nbformat_minor": 5
}
